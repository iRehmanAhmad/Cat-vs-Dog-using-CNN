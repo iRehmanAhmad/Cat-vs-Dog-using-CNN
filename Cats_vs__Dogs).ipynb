{
  "nbformat": 4,
  "nbformat_minor": 0,
  "metadata": {
    "colab": {
      "provenance": [],
      "gpuType": "T4"
    },
    "kernelspec": {
      "name": "python3",
      "display_name": "Python 3"
    },
    "language_info": {
      "name": "python"
    },
    "accelerator": "GPU"
  },
  "cells": [
    {
      "cell_type": "code",
      "source": [
        "# Setting path to Kaggle, this will create a folder named as Kaggle on google drive\n",
        "import os\n",
        "os.environ[\"KAGGLE_CONFIG_DIR\"] = \"/content/drive/MyDrive/Kaggle\"\n",
        "%cd \"/content/drive/MyDrive/Kaggle\"\n"
      ],
      "metadata": {
        "id": "9iOMC4KiOE-w",
        "colab": {
          "base_uri": "https://localhost:8080/"
        },
        "outputId": "2d14b36d-02e1-414b-a986-dfcc45bf2734"
      },
      "execution_count": 2,
      "outputs": [
        {
          "output_type": "stream",
          "name": "stdout",
          "text": [
            "/content/drive/MyDrive/Kaggle\n"
          ]
        }
      ]
    },
    {
      "cell_type": "code",
      "source": [
        "# Downloading dataset from kaggle\n",
        "!kaggle datasets download -d salader/dogs-vs-cats"
      ],
      "metadata": {
        "colab": {
          "base_uri": "https://localhost:8080/"
        },
        "id": "ZdTUhdFqOFKw",
        "outputId": "9283d460-eeb9-426f-9f22-a83db3c468c7"
      },
      "execution_count": null,
      "outputs": [
        {
          "output_type": "stream",
          "name": "stdout",
          "text": [
            "Downloading dogs-vs-cats.zip to /content/drive/MyDrive/Kaggle\n",
            "100% 1.06G/1.06G [00:29<00:00, 42.8MB/s]\n",
            "100% 1.06G/1.06G [00:29<00:00, 38.9MB/s]\n"
          ]
        }
      ]
    },
    {
      "cell_type": "code",
      "source": [
        "# Unzipping dataset\n",
        "import zipfile\n",
        "zip_ref = zipfile.ZipFile(\"/content/drive/MyDrive/Kaggle/dogs-vs-cats.zip\", \"r\")\n",
        "zip_ref.extractall(\"/content\")\n",
        "zip_ref.close()\n"
      ],
      "metadata": {
        "id": "sF489YAbUK7E"
      },
      "execution_count": 8,
      "outputs": []
    },
    {
      "cell_type": "code",
      "source": [
        "# Importing important Libararies\n",
        "import tensorflow as tf\n",
        "from tensorflow import keras\n",
        "from keras import Sequential\n",
        "from keras.layers import Dense, Conv2D, MaxPool2D, Flatten\n"
      ],
      "metadata": {
        "id": "KzMnAD64UQnR"
      },
      "execution_count": 3,
      "outputs": []
    },
    {
      "cell_type": "code",
      "source": [
        "# Getting training dataset\n",
        "train_data = tf.keras.utils.image_dataset_from_directory(\n",
        "    directory = \"/content/train\",\n",
        "    labels='inferred',\n",
        "    label_mode='int',\n",
        "    batch_size=32,\n",
        "    image_size=(256, 256)\n",
        ")\n"
      ],
      "metadata": {
        "colab": {
          "base_uri": "https://localhost:8080/"
        },
        "id": "_VWfOmoLYxnP",
        "outputId": "c20992fa-26d0-42b6-d414-72fc0bddbf8d"
      },
      "execution_count": 9,
      "outputs": [
        {
          "output_type": "stream",
          "name": "stdout",
          "text": [
            "Found 20000 files belonging to 2 classes.\n"
          ]
        }
      ]
    },
    {
      "cell_type": "code",
      "source": [
        "# Getting testing dataset\n",
        "test_data = tf.keras.utils.image_dataset_from_directory(\n",
        "    directory = \"/content/test\",\n",
        "    labels='inferred',\n",
        "    label_mode='int',\n",
        "    batch_size=32,\n",
        "    image_size=(256, 256)\n",
        ")\n"
      ],
      "metadata": {
        "id": "TjuX7MqIY7Px",
        "colab": {
          "base_uri": "https://localhost:8080/"
        },
        "outputId": "3e72c4c7-97ec-43ea-f29d-f67fd89432c3"
      },
      "execution_count": 10,
      "outputs": [
        {
          "output_type": "stream",
          "name": "stdout",
          "text": [
            "Found 5000 files belonging to 2 classes.\n"
          ]
        }
      ]
    },
    {
      "cell_type": "code",
      "source": [
        "\n",
        "# Normalization, converting all images to 256x256\n",
        "def normalization_process(image, lable):\n",
        "  image = tf.cast(image/255, tf.float32)\n",
        "  return image, lable\n",
        "\n",
        "train_data = train_data.map(normalization_process)\n",
        "test_data = test_data.map(normalization_process)\n",
        "\n"
      ],
      "metadata": {
        "id": "Ngef5S1KbhFS"
      },
      "execution_count": 11,
      "outputs": []
    },
    {
      "cell_type": "code",
      "source": [
        "# Creating our model\n",
        "model = Sequential()\n",
        "model.add(Conv2D(32, kernel_size= (3,3), padding=\"valid\", activation=\"relu\", input_shape = (256, 256, 3)  ))\n",
        "model.add(MaxPool2D(pool_size=(2,2), strides=2, padding = \"valid\"))\n",
        "\n",
        "model.add(Conv2D(64, kernel_size= (3,3), padding=\"valid\", activation=\"relu\"))\n",
        "model.add(MaxPool2D(pool_size=(2,2), strides=2, padding = \"valid\"))\n",
        "\n",
        "model.add(Conv2D(128, kernel_size= (3,3), padding=\"valid\", activation=\"relu\"))\n",
        "model.add(MaxPool2D(pool_size=(2,2), strides=2, padding = \"valid\"))\n",
        "\n",
        "model.add(Flatten())\n",
        "\n",
        "model.add(Dense(128, activation=\"relu\"))\n",
        "model.add(Dense(64, activation=\"relu\"))\n",
        "model.add(Dense(1, activation=\"sigmoid\"))\n",
        "\n"
      ],
      "metadata": {
        "id": "6gQkvxgLcmLT"
      },
      "execution_count": 12,
      "outputs": []
    },
    {
      "cell_type": "code",
      "source": [
        "model.summary()"
      ],
      "metadata": {
        "colab": {
          "base_uri": "https://localhost:8080/"
        },
        "id": "4-D1ZaY85bwZ",
        "outputId": "e8fdd5e3-7adc-4465-ca1b-097bb185a4cb"
      },
      "execution_count": 13,
      "outputs": [
        {
          "output_type": "stream",
          "name": "stdout",
          "text": [
            "Model: \"sequential\"\n",
            "_________________________________________________________________\n",
            " Layer (type)                Output Shape              Param #   \n",
            "=================================================================\n",
            " conv2d (Conv2D)             (None, 254, 254, 32)      896       \n",
            "                                                                 \n",
            " max_pooling2d (MaxPooling2D  (None, 127, 127, 32)     0         \n",
            " )                                                               \n",
            "                                                                 \n",
            " conv2d_1 (Conv2D)           (None, 125, 125, 64)      18496     \n",
            "                                                                 \n",
            " max_pooling2d_1 (MaxPooling  (None, 62, 62, 64)       0         \n",
            " 2D)                                                             \n",
            "                                                                 \n",
            " conv2d_2 (Conv2D)           (None, 60, 60, 128)       73856     \n",
            "                                                                 \n",
            " max_pooling2d_2 (MaxPooling  (None, 30, 30, 128)      0         \n",
            " 2D)                                                             \n",
            "                                                                 \n",
            " flatten (Flatten)           (None, 115200)            0         \n",
            "                                                                 \n",
            " dense (Dense)               (None, 128)               14745728  \n",
            "                                                                 \n",
            " dense_1 (Dense)             (None, 64)                8256      \n",
            "                                                                 \n",
            " dense_2 (Dense)             (None, 1)                 65        \n",
            "                                                                 \n",
            "=================================================================\n",
            "Total params: 14,847,297\n",
            "Trainable params: 14,847,297\n",
            "Non-trainable params: 0\n",
            "_________________________________________________________________\n"
          ]
        }
      ]
    },
    {
      "cell_type": "code",
      "source": [
        "# Fitting our model\n",
        "model.compile(optimizer=\"adam\", loss=\"binary_crossentropy\", metrics= [\"accuracy\"])\n",
        "history = model.fit(train_data, epochs=10, validation_data= test_data)"
      ],
      "metadata": {
        "id": "VZCtxygycv3Z",
        "colab": {
          "base_uri": "https://localhost:8080/"
        },
        "outputId": "accf6248-332c-4f9e-d99a-8be1c78417cb"
      },
      "execution_count": 14,
      "outputs": [
        {
          "output_type": "stream",
          "name": "stdout",
          "text": [
            "Epoch 1/10\n",
            "625/625 [==============================] - 70s 91ms/step - loss: 0.6054 - accuracy: 0.6581 - val_loss: 0.5328 - val_accuracy: 0.7386\n",
            "Epoch 2/10\n",
            "625/625 [==============================] - 59s 94ms/step - loss: 0.4789 - accuracy: 0.7652 - val_loss: 0.4557 - val_accuracy: 0.7844\n",
            "Epoch 3/10\n",
            "625/625 [==============================] - 58s 92ms/step - loss: 0.3759 - accuracy: 0.8287 - val_loss: 0.4928 - val_accuracy: 0.7926\n",
            "Epoch 4/10\n",
            "625/625 [==============================] - 58s 92ms/step - loss: 0.2420 - accuracy: 0.8956 - val_loss: 0.7407 - val_accuracy: 0.7766\n",
            "Epoch 5/10\n",
            "625/625 [==============================] - 60s 95ms/step - loss: 0.1346 - accuracy: 0.9475 - val_loss: 0.8515 - val_accuracy: 0.7844\n",
            "Epoch 6/10\n",
            "625/625 [==============================] - 58s 93ms/step - loss: 0.0786 - accuracy: 0.9717 - val_loss: 0.9895 - val_accuracy: 0.7746\n",
            "Epoch 7/10\n",
            "625/625 [==============================] - 56s 90ms/step - loss: 0.0571 - accuracy: 0.9796 - val_loss: 0.9672 - val_accuracy: 0.7942\n",
            "Epoch 8/10\n",
            "625/625 [==============================] - 57s 91ms/step - loss: 0.0426 - accuracy: 0.9860 - val_loss: 1.0869 - val_accuracy: 0.7922\n",
            "Epoch 9/10\n",
            "625/625 [==============================] - 57s 91ms/step - loss: 0.0274 - accuracy: 0.9916 - val_loss: 1.1246 - val_accuracy: 0.7938\n",
            "Epoch 10/10\n",
            "625/625 [==============================] - 59s 94ms/step - loss: 0.0378 - accuracy: 0.9872 - val_loss: 1.1176 - val_accuracy: 0.7880\n"
          ]
        }
      ]
    },
    {
      "cell_type": "code",
      "source": [
        "# Plotting accuracy, val_accuracy, loss and val_loss, Model is overfitted as there is a gap between accuracies, moreover validation loss is also increasing\n",
        "import matplotlib.pyplot as plt\n",
        "plt.plot(history.history[\"accuracy\"], color=\"red\", label = \"Train Accuracy\")\n",
        "plt.plot(history.history[\"val_accuracy\"], color=\"blue\", label = \"Validation Accuracy\")\n",
        "plt.plot(history.history[\"loss\"], color=\"green\", label = \"Train Loss\")\n",
        "plt.plot(history.history[\"val_loss\"], color=\"black\", label = \"Validation Loss\")\n",
        "plt.legend()\n",
        "plt.show()"
      ],
      "metadata": {
        "colab": {
          "base_uri": "https://localhost:8080/",
          "height": 430
        },
        "id": "uEFyjqbqOqay",
        "outputId": "ad0d7802-60ed-43b6-9013-5d03866337ff"
      },
      "execution_count": 15,
      "outputs": [
        {
          "output_type": "display_data",
          "data": {
            "text/plain": [
              "<Figure size 640x480 with 1 Axes>"
            ],
            "image/png": "[encoded data removed]"
          },
          "metadata": {}
        }
      ]
    },
    {
      "cell_type": "code",
      "source": [
        "# Importing BatcNormaliztion and Dropout to mitigate the overfitting\n",
        "from keras.layers import BatchNormalization, Dropout\n"
      ],
      "metadata": {
        "id": "0GOnmMB6OqeG"
      },
      "execution_count": 16,
      "outputs": []
    },
    {
      "cell_type": "code",
      "source": [
        "# Applying BatcNormaliztion and Dropout to mitigate the overfitting\n",
        "\n",
        "model = Sequential()\n",
        "model.add(Conv2D(32, kernel_size= (3,3), padding=\"valid\", activation=\"relu\", input_shape = (256, 256, 3)  ))\n",
        "model.add(BatchNormalization())\n",
        "model.add(MaxPool2D(pool_size=(2,2), strides=2, padding = \"valid\"))\n",
        "\n",
        "model.add(Conv2D(64, kernel_size= (3,3), padding=\"valid\", activation=\"relu\"))\n",
        "model.add(BatchNormalization())\n",
        "model.add(MaxPool2D(pool_size=(2,2), strides=2, padding = \"valid\"))\n",
        "\n",
        "model.add(Conv2D(128, kernel_size= (3,3), padding=\"valid\", activation=\"relu\"))\n",
        "model.add(BatchNormalization())\n",
        "model.add(MaxPool2D(pool_size=(2,2), strides=2, padding = \"valid\"))\n",
        "\n",
        "model.add(Flatten())\n",
        "\n",
        "model.add(Dense(128, activation=\"relu\"))\n",
        "model.add(Dropout(.1))\n",
        "model.add(Dense(64, activation=\"relu\"))\n",
        "model.add(Dropout(.1))\n",
        "model.add(Dense(1, activation=\"sigmoid\"))\n"
      ],
      "metadata": {
        "id": "KSP53omTOqhB"
      },
      "execution_count": 17,
      "outputs": []
    },
    {
      "cell_type": "code",
      "source": [
        "model.summary()"
      ],
      "metadata": {
        "colab": {
          "base_uri": "https://localhost:8080/"
        },
        "id": "R5rEV7PpUz4T",
        "outputId": "43ef359c-cab1-4c60-d409-a8efc54ce7f2"
      },
      "execution_count": 18,
      "outputs": [
        {
          "output_type": "stream",
          "name": "stdout",
          "text": [
            "Model: \"sequential_1\"\n",
            "_________________________________________________________________\n",
            " Layer (type)                Output Shape              Param #   \n",
            "=================================================================\n",
            " conv2d_3 (Conv2D)           (None, 254, 254, 32)      896       \n",
            "                                                                 \n",
            " batch_normalization (BatchN  (None, 254, 254, 32)     128       \n",
            " ormalization)                                                   \n",
            "                                                                 \n",
            " max_pooling2d_3 (MaxPooling  (None, 127, 127, 32)     0         \n",
            " 2D)                                                             \n",
            "                                                                 \n",
            " conv2d_4 (Conv2D)           (None, 125, 125, 64)      18496     \n",
            "                                                                 \n",
            " batch_normalization_1 (Batc  (None, 125, 125, 64)     256       \n",
            " hNormalization)                                                 \n",
            "                                                                 \n",
            " max_pooling2d_4 (MaxPooling  (None, 62, 62, 64)       0         \n",
            " 2D)                                                             \n",
            "                                                                 \n",
            " conv2d_5 (Conv2D)           (None, 60, 60, 128)       73856     \n",
            "                                                                 \n",
            " batch_normalization_2 (Batc  (None, 60, 60, 128)      512       \n",
            " hNormalization)                                                 \n",
            "                                                                 \n",
            " max_pooling2d_5 (MaxPooling  (None, 30, 30, 128)      0         \n",
            " 2D)                                                             \n",
            "                                                                 \n",
            " flatten_1 (Flatten)         (None, 115200)            0         \n",
            "                                                                 \n",
            " dense_3 (Dense)             (None, 128)               14745728  \n",
            "                                                                 \n",
            " dropout (Dropout)           (None, 128)               0         \n",
            "                                                                 \n",
            " dense_4 (Dense)             (None, 64)                8256      \n",
            "                                                                 \n",
            " dropout_1 (Dropout)         (None, 64)                0         \n",
            "                                                                 \n",
            " dense_5 (Dense)             (None, 1)                 65        \n",
            "                                                                 \n",
            "=================================================================\n",
            "Total params: 14,848,193\n",
            "Trainable params: 14,847,745\n",
            "Non-trainable params: 448\n",
            "_________________________________________________________________\n"
          ]
        }
      ]
    },
    {
      "cell_type": "code",
      "source": [
        "# Applaying EarlyStopping to improve perfomrance of model\n",
        "from tensorflow.keras.callbacks import EarlyStopping\n",
        "\n",
        "# Define the EarlyStopping callback\n",
        "early_stopping = EarlyStopping(monitor='val_loss', patience=3, restore_best_weights=True)\n",
        "model.compile(optimizer=\"adam\", loss=\"binary_crossentropy\", metrics= [\"accuracy\"])\n",
        "history = model.fit(train_data, epochs=10, validation_data= test_data, callbacks=[early_stopping])"
      ],
      "metadata": {
        "colab": {
          "base_uri": "https://localhost:8080/"
        },
        "id": "IUHxG8K7U4JY",
        "outputId": "88108a95-afb1-4b68-b407-0955aa9adcf2"
      },
      "execution_count": 19,
      "outputs": [
        {
          "output_type": "stream",
          "name": "stdout",
          "text": [
            "Epoch 1/10\n",
            "625/625 [==============================] - 72s 110ms/step - loss: 1.2560 - accuracy: 0.5947 - val_loss: 0.6110 - val_accuracy: 0.6796\n",
            "Epoch 2/10\n",
            "625/625 [==============================] - 69s 109ms/step - loss: 0.5590 - accuracy: 0.7113 - val_loss: 0.5010 - val_accuracy: 0.7504\n",
            "Epoch 3/10\n",
            "625/625 [==============================] - 67s 107ms/step - loss: 0.4772 - accuracy: 0.7740 - val_loss: 0.4942 - val_accuracy: 0.7688\n",
            "Epoch 4/10\n",
            "625/625 [==============================] - 69s 109ms/step - loss: 0.4035 - accuracy: 0.8182 - val_loss: 0.4255 - val_accuracy: 0.8074\n",
            "Epoch 5/10\n",
            "625/625 [==============================] - 68s 109ms/step - loss: 0.3474 - accuracy: 0.8479 - val_loss: 0.4773 - val_accuracy: 0.7950\n",
            "Epoch 6/10\n",
            "625/625 [==============================] - 70s 111ms/step - loss: 0.2663 - accuracy: 0.8904 - val_loss: 0.5653 - val_accuracy: 0.7880\n",
            "Epoch 7/10\n",
            "625/625 [==============================] - 66s 105ms/step - loss: 0.1941 - accuracy: 0.9197 - val_loss: 0.6134 - val_accuracy: 0.8180\n"
          ]
        }
      ]
    },
    {
      "cell_type": "code",
      "source": [
        "# Plotting after removing overfitting\n",
        "import matplotlib.pyplot as plt\n",
        "plt.plot(history.history[\"accuracy\"], color=\"red\", label = \"Train Accuracy\")\n",
        "plt.plot(history.history[\"val_accuracy\"], color=\"blue\", label = \"Validation Accuracy\")\n",
        "plt.plot(history.history[\"loss\"], color=\"green\", label = \"Train Loss\")\n",
        "plt.plot(history.history[\"val_loss\"], color=\"yellow\", label = \"Validation Loss\")\n",
        "plt.legend()\n",
        "plt.show()"
      ],
      "metadata": {
        "colab": {
          "base_uri": "https://localhost:8080/",
          "height": 430
        },
        "id": "n_2GgOHwU4M0",
        "outputId": "dbf131f7-89a3-40bc-92f7-1acf4216ddb2"
      },
      "execution_count": 20,
      "outputs": [
        {
          "output_type": "display_data",
          "data": {
            "text/plain": [
              "<Figure size 640x480 with 1 Axes>"
            ],
            "image/png": "[encoded data removed]"
          },
          "metadata": {}
        }
      ]
    },
    {
      "cell_type": "code",
      "source": [],
      "metadata": {
        "id": "yGK7tfWmgQlT"
      },
      "execution_count": null,
      "outputs": []
    },
    {
      "cell_type": "code",
      "source": [],
      "metadata": {
        "id": "PfYnDWgKnoxQ"
      },
      "execution_count": null,
      "outputs": []
    },
    {
      "cell_type": "code",
      "source": [],
      "metadata": {
        "id": "WaD0Ci9hhFqq"
      },
      "execution_count": null,
      "outputs": []
    }
  ]
}